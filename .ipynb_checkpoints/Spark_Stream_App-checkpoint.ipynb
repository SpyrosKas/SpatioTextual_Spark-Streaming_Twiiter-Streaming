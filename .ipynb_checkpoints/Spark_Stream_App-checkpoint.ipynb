{
 "cells": [
  {
   "cell_type": "markdown",
   "metadata": {},
   "source": [
    "## Create a Grid of NxN Cells\n",
    "### N should be an input by user\n",
    "\n",
    "I'll create a json that will contains the coordinates of each cell(square). Json must contain for each cell the:\n",
    "* CellId \n",
    "* upper side(max latitude)\n",
    "* bottom side(min latitude)\n",
    "* right side(max longitude)\n",
    "* left side(min longitude)"
   ]
  },
  {
   "cell_type": "code",
   "execution_count": 1,
   "metadata": {},
   "outputs": [
    {
     "name": "stdout",
     "output_type": "stream",
     "text": [
      "The history saving thread hit an unexpected error (DatabaseError('database disk image is malformed')).History will not be written to the database.\n",
      "Insert the number of Cells per row/column.4\n"
     ]
    }
   ],
   "source": [
    "while True:\n",
    "        try:\n",
    "            N = int(input('Insert the number of Cells per row/column.'))\n",
    "            break\n",
    "        except:\n",
    "            print(\"That's not a valid option! \")"
   ]
  },
  {
   "cell_type": "code",
   "execution_count": 2,
   "metadata": {},
   "outputs": [
    {
     "name": "stdout",
     "output_type": "stream",
     "text": [
      "90.0 45.0 16\n"
     ]
    }
   ],
   "source": [
    "# Given the N number of cells we must calculate the length of horizontal/vertical sides of each cell.\n",
    "num_of_cells = N*N\n",
    "hor_len = 360/N\n",
    "ver_len = 180/N\n",
    "print(hor_len, ver_len, num_of_cells)"
   ]
  },
  {
   "cell_type": "code",
   "execution_count": 3,
   "metadata": {},
   "outputs": [],
   "source": [
    "cells=[]\n",
    "max_ver=90\n",
    "min_ver=90-ver_len\n",
    "min_hor=-180-hor_len\n",
    "max_hor=-180\n",
    "for c in range(1,num_of_cells+1):\n",
    "    min_hor+=hor_len\n",
    "    max_hor+=hor_len\n",
    "    temp_cell = {\"cell\":c,\n",
    "                 \"max_lat\": max_ver,\n",
    "                 \"min_lat\": min_ver,\n",
    "                 \"min_lon\": min_hor,\n",
    "                 \"max_lon\": max_hor\n",
    "                }\n",
    "    cells.append(temp_cell)\n",
    "    if max_hor==180:\n",
    "        min_hor= -180-hor_len\n",
    "        max_hor= -180\n",
    "        max_ver-=ver_len\n",
    "        min_ver-=ver_len\n",
    "    \n",
    "    "
   ]
  },
  {
   "cell_type": "code",
   "execution_count": 4,
   "metadata": {},
   "outputs": [
    {
     "data": {
      "text/plain": [
       "[{'cell': 1,\n",
       "  'max_lat': 90,\n",
       "  'min_lat': 45.0,\n",
       "  'min_lon': -180.0,\n",
       "  'max_lon': -90.0},\n",
       " {'cell': 2, 'max_lat': 90, 'min_lat': 45.0, 'min_lon': -90.0, 'max_lon': 0.0},\n",
       " {'cell': 3, 'max_lat': 90, 'min_lat': 45.0, 'min_lon': 0.0, 'max_lon': 90.0},\n",
       " {'cell': 4,\n",
       "  'max_lat': 90,\n",
       "  'min_lat': 45.0,\n",
       "  'min_lon': 90.0,\n",
       "  'max_lon': 180.0},\n",
       " {'cell': 5,\n",
       "  'max_lat': 45.0,\n",
       "  'min_lat': 0.0,\n",
       "  'min_lon': -180.0,\n",
       "  'max_lon': -90.0},\n",
       " {'cell': 6,\n",
       "  'max_lat': 45.0,\n",
       "  'min_lat': 0.0,\n",
       "  'min_lon': -90.0,\n",
       "  'max_lon': 0.0},\n",
       " {'cell': 7, 'max_lat': 45.0, 'min_lat': 0.0, 'min_lon': 0.0, 'max_lon': 90.0},\n",
       " {'cell': 8,\n",
       "  'max_lat': 45.0,\n",
       "  'min_lat': 0.0,\n",
       "  'min_lon': 90.0,\n",
       "  'max_lon': 180.0},\n",
       " {'cell': 9,\n",
       "  'max_lat': 0.0,\n",
       "  'min_lat': -45.0,\n",
       "  'min_lon': -180.0,\n",
       "  'max_lon': -90.0},\n",
       " {'cell': 10,\n",
       "  'max_lat': 0.0,\n",
       "  'min_lat': -45.0,\n",
       "  'min_lon': -90.0,\n",
       "  'max_lon': 0.0},\n",
       " {'cell': 11,\n",
       "  'max_lat': 0.0,\n",
       "  'min_lat': -45.0,\n",
       "  'min_lon': 0.0,\n",
       "  'max_lon': 90.0},\n",
       " {'cell': 12,\n",
       "  'max_lat': 0.0,\n",
       "  'min_lat': -45.0,\n",
       "  'min_lon': 90.0,\n",
       "  'max_lon': 180.0},\n",
       " {'cell': 13,\n",
       "  'max_lat': -45.0,\n",
       "  'min_lat': -90.0,\n",
       "  'min_lon': -180.0,\n",
       "  'max_lon': -90.0},\n",
       " {'cell': 14,\n",
       "  'max_lat': -45.0,\n",
       "  'min_lat': -90.0,\n",
       "  'min_lon': -90.0,\n",
       "  'max_lon': 0.0},\n",
       " {'cell': 15,\n",
       "  'max_lat': -45.0,\n",
       "  'min_lat': -90.0,\n",
       "  'min_lon': 0.0,\n",
       "  'max_lon': 90.0},\n",
       " {'cell': 16,\n",
       "  'max_lat': -45.0,\n",
       "  'min_lat': -90.0,\n",
       "  'min_lon': 90.0,\n",
       "  'max_lon': 180.0}]"
      ]
     },
     "execution_count": 4,
     "metadata": {},
     "output_type": "execute_result"
    }
   ],
   "source": [
    "cells"
   ]
  },
  {
   "cell_type": "code",
   "execution_count": 5,
   "metadata": {},
   "outputs": [],
   "source": [
    "from pyspark import SparkConf,SparkContext\n",
    "from pyspark.streaming import StreamingContext\n",
    "from pyspark.sql import SQLContext\n",
    "from pyspark.sql.functions import udf\n",
    "from pyspark.sql import functions as F\n",
    "from pyspark.sql.types import IntegerType\n",
    "from pyspark.sql.functions import desc\n",
    "from collections import namedtuple\n",
    "import json"
   ]
  },
  {
   "cell_type": "code",
   "execution_count": 6,
   "metadata": {},
   "outputs": [],
   "source": [
    "sc = SparkContext()# we initiate the StreamingContext with 10 second batch interval. #next we initiate our sqlcontext\n",
    "ssc = StreamingContext(sc, 10)\n",
    "# setting a checkpoint to allow RDD recovery\n",
    "ssc.checkpoint(\"checkpoint_TwitterApp\")\n",
    "sqlContext = SQLContext(sc)"
   ]
  },
  {
   "cell_type": "code",
   "execution_count": 7,
   "metadata": {},
   "outputs": [],
   "source": [
    "# initiate streaming text from a TCP (socket) source:\n",
    "socket_stream = ssc.socketTextStream(\"127.0.0.1\", 5555)# lines of tweets with socket_stream window of size 60, or 60 #seconds windows of time\n",
    "# lines = socket_stream.window(60)\n",
    "# socket_stream.pprint()"
   ]
  },
  {
   "cell_type": "code",
   "execution_count": 8,
   "metadata": {},
   "outputs": [],
   "source": [
    "def aggregate_cells_count(new_values, total_sum):\n",
    "    return sum(new_values) + (total_sum or 0)"
   ]
  },
  {
   "cell_type": "code",
   "execution_count": 9,
   "metadata": {},
   "outputs": [],
   "source": [
    "tweets = socket_stream.map(lambda line: (json.loads(line)['geo']['coordinates'][0],json.loads(line)['geo']['coordinates'][1],json.loads(line)['text'] ))\n",
    "\n",
    "# Custom Preset 4-Cells Grid\n",
    "## full = tweets.map(lambda t: (1 if (t[0]>0 and t[1]<0) else (2 if(t[0]>0 and t[1]>0) else (3 if(t[0]<0 and t[1]<0) else 4)), t[0], t[1], t[2]    ))\n",
    "## num_partitions = tweets.map(lambda t: 1 if (t[0]>0 and t[1]<0) else (2 if(t[0]>0 and t[1]>0) else (3 if(t[0]<0 and t[1]<0) else 4))).map(lambda x: (x,1))\n",
    "\n",
    "\n",
    "full = tweets.map(lambda t: [(c[\"cell\"], t[0], t[1], t[2]) for c in cells if (t[0]<c[\"max_lat\"] and t[0]>c[\"min_lat\"] and t[1]>c[\"min_lon\"] and t[1]<c[\"max_lon\"] )] ).map(lambda x: x[0])\n",
    "num_partitions = tweets.map(lambda t: [c[\"cell\"] for c in cells if (t[0]<c[\"max_lat\"] and t[0]>c[\"min_lat\"] and t[1]>c[\"min_lon\"] and t[1]<c[\"max_lon\"] )]).map(lambda x: (x[0],1))\n",
    "\n",
    "\n",
    "\n",
    "cells_totals = num_partitions.updateStateByKey(aggregate_cells_count)\n",
    "\n",
    "## Print full object Schema: (cell,latitude,longitude,text)\n",
    "# full.pprint()\n",
    "\n",
    "## Print the number of objects to cell per batch\n",
    "#num_partitions.pprint()\n",
    "\n",
    "## Print the total count of object in each cell\n",
    "# cells_totals.pprint()"
   ]
  },
  {
   "cell_type": "code",
   "execution_count": 10,
   "metadata": {},
   "outputs": [],
   "source": [
    "fields = (\"cell\", \"count\")\n",
    "Tweet = namedtuple( 'Tweet', fields )\n",
    "\n",
    "(cells_totals.map(lambda rec: Tweet( rec[0], rec[1] ) ).foreachRDD(lambda rdd: rdd.toDF().sort( desc(\"count\") ).registerTempTable(\"tweets_per_cell\")) ) \n",
    "\n"
   ]
  },
  {
   "cell_type": "markdown",
   "metadata": {},
   "source": [
    "## Spatio-Textual Querying\n",
    "\n",
    "We are going to use Haversine distance for the spatio queries and Jaccard for textual ones."
   ]
  },
  {
   "cell_type": "code",
   "execution_count": 11,
   "metadata": {},
   "outputs": [],
   "source": [
    "# !pip install haversine"
   ]
  },
  {
   "cell_type": "code",
   "execution_count": 12,
   "metadata": {},
   "outputs": [],
   "source": [
    "import haversine"
   ]
  },
  {
   "cell_type": "code",
   "execution_count": 13,
   "metadata": {},
   "outputs": [],
   "source": [
    "def jaccard_similarity(list1, list2):\n",
    "    s1 = set(list1)\n",
    "    s2 = set(list2)\n",
    "    return len(s1.intersection(s2)) / len(s1.union(s2))\n",
    "\n"
   ]
  },
  {
   "cell_type": "code",
   "execution_count": 14,
   "metadata": {},
   "outputs": [],
   "source": [
    "from nltk.corpus import stopwords\n",
    "# nltk.download('stopwords')\n",
    "from nltk.tokenize import TweetTokenizer \n",
    "\n",
    "punctuations = ['!', '\"', '#', '$', '%', '&', \"'\", '(', ')', '*', '+', ',', '-', '.', '/', ':', ';', '<', '=', '>', '?', '@', '[', '\\\\', ']', '^', '_', '`', '{', '|', '}', '~']\n",
    "stop_words = set(stopwords.words('english'))\n",
    "\n",
    "\n",
    "def tokenizer(text):\n",
    "    tk = TweetTokenizer() \n",
    "    word_tokens = tk.tokenize(text.lower())\n",
    "    \n",
    "    filtered_sentence = [w for w in word_tokens if (not w in stop_words)]\n",
    "    filtered_sentence = [w for w in word_tokens if (not w in punctuations)]\n",
    "    \n",
    "    return filtered_sentence\n",
    "    \n",
    "    \n",
    "    "
   ]
  },
  {
   "cell_type": "markdown",
   "metadata": {},
   "source": [
    "### User location and Text Based Querying\n",
    "\n",
    "User input is his location, maximum distance, and a sentence of keywords. "
   ]
  },
  {
   "cell_type": "code",
   "execution_count": 15,
   "metadata": {},
   "outputs": [],
   "source": [
    "user_text = tokenizer(\"14 July happy sad football summer work home i I USA Home Work Happy and study how love today play new New-York New York life black #nyc #love #happy #fashion #life #work\")\n",
    "user_cord = (40.71, 74.00)\n",
    "user_cell =(1 if (user_cord[0]>0 and user_cord[1]<0) else (2 if(user_cord[0]>0 and user_cord[1]>0) else (3 if(user_cord[0]<0 and user_cord[1]<0) else 4)))\n",
    "r_dist = 5000"
   ]
  },
  {
   "cell_type": "code",
   "execution_count": 16,
   "metadata": {},
   "outputs": [
    {
     "data": {
      "text/plain": [
       "2"
      ]
     },
     "execution_count": 16,
     "metadata": {},
     "output_type": "execute_result"
    }
   ],
   "source": [
    "user_cell"
   ]
  },
  {
   "cell_type": "code",
   "execution_count": 17,
   "metadata": {},
   "outputs": [],
   "source": [
    "tweets_cell_dstream = socket_stream.map(lambda t: (json.loads(t)['user']['screen_name'], json.loads(t)['geo']['coordinates'][0], json.loads(t)['geo']['coordinates'][1], tokenizer(json.loads(t)['text']))).map(lambda t: [(c[\"cell\"], t[0], t[1], t[2], t[3]) for c in cells if (t[1]<c[\"max_lat\"] and t[1]>c[\"min_lat\"] and t[2]>c[\"min_lon\"] and t[2]<c[\"max_lon\"] )] ).map(lambda x: x[0])\n",
    "match_tuples_branch = tweets_cell_dstream.filter(lambda t:  jaccard_similarity(t[4],user_text)>0 and  t[0]==user_cell)\n",
    "\n",
    "match_tuples = match_tuples_branch.window(180)\n",
    "\n",
    "                               \n",
    "match_counts = match_tuples_branch.map(lambda x:  ( x[1], 1) ).updateStateByKey(aggregate_cells_count)"
   ]
  },
  {
   "cell_type": "code",
   "execution_count": 18,
   "metadata": {},
   "outputs": [],
   "source": [
    "match_tuples_branch.pprint()\n",
    "match_tuples.pprint()\n",
    "match_counts.pprint()"
   ]
  },
  {
   "cell_type": "code",
   "execution_count": 19,
   "metadata": {},
   "outputs": [
    {
     "name": "stdout",
     "output_type": "stream",
     "text": [
      "-------------------------------------------\n",
      "Time: 2020-07-15 13:07:20\n",
      "-------------------------------------------\n",
      "\n",
      "-------------------------------------------\n",
      "Time: 2020-07-15 13:07:20\n",
      "-------------------------------------------\n",
      "\n",
      "-------------------------------------------\n",
      "Time: 2020-07-15 13:07:20\n",
      "-------------------------------------------\n",
      "\n",
      "-------------------------------------------\n",
      "Time: 2020-07-15 13:07:30\n",
      "-------------------------------------------\n",
      "(2, 'HndNit', 53.84926, -1.83893, ['hello', 'friends', \"today's\", '#washcloth', 'is', 'mock', 'cable', 'so', 'no', 'cable', 'needle', 'required', '. \\n.', 'knit', '2', 'rows', 'to', 'form', 'the', 'bottom', 'and', '…', 'https://t.co/fdhvxrx2ap'])\n",
      "(2, 'shelikestosing', 51.65169, -0.19747, ['happy', '70thbirthday', 'to', 'my', 'father', 'yesterday', 'on', '#bastilleday', 'fought', '#corunavirus', 'and', 'got', 'positive', 'news', 'on', 'his', 'birthday', '…', 'https://t.co/phfcph6gjh'])\n",
      "\n",
      "-------------------------------------------\n",
      "Time: 2020-07-15 13:07:30\n",
      "-------------------------------------------\n",
      "(2, 'HndNit', 53.84926, -1.83893, ['hello', 'friends', \"today's\", '#washcloth', 'is', 'mock', 'cable', 'so', 'no', 'cable', 'needle', 'required', '. \\n.', 'knit', '2', 'rows', 'to', 'form', 'the', 'bottom', 'and', '…', 'https://t.co/fdhvxrx2ap'])\n",
      "(2, 'shelikestosing', 51.65169, -0.19747, ['happy', '70thbirthday', 'to', 'my', 'father', 'yesterday', 'on', '#bastilleday', 'fought', '#corunavirus', 'and', 'got', 'positive', 'news', 'on', 'his', 'birthday', '…', 'https://t.co/phfcph6gjh'])\n",
      "\n",
      "-------------------------------------------\n",
      "Time: 2020-07-15 13:07:30\n",
      "-------------------------------------------\n",
      "('HndNit', 1)\n",
      "('shelikestosing', 1)\n",
      "\n",
      "-------------------------------------------\n",
      "Time: 2020-07-15 13:07:40\n",
      "-------------------------------------------\n",
      "\n",
      "-------------------------------------------\n",
      "Time: 2020-07-15 13:07:40\n",
      "-------------------------------------------\n",
      "(2, 'HndNit', 53.84926, -1.83893, ['hello', 'friends', \"today's\", '#washcloth', 'is', 'mock', 'cable', 'so', 'no', 'cable', 'needle', 'required', '. \\n.', 'knit', '2', 'rows', 'to', 'form', 'the', 'bottom', 'and', '…', 'https://t.co/fdhvxrx2ap'])\n",
      "(2, 'shelikestosing', 51.65169, -0.19747, ['happy', '70thbirthday', 'to', 'my', 'father', 'yesterday', 'on', '#bastilleday', 'fought', '#corunavirus', 'and', 'got', 'positive', 'news', 'on', 'his', 'birthday', '…', 'https://t.co/phfcph6gjh'])\n",
      "\n",
      "-------------------------------------------\n",
      "Time: 2020-07-15 13:07:40\n",
      "-------------------------------------------\n",
      "('HndNit', 1)\n",
      "('shelikestosing', 1)\n",
      "\n"
     ]
    }
   ],
   "source": [
    "# start streaming and wait couple of minutes to get enought tweets\n",
    "ssc.start()"
   ]
  },
  {
   "cell_type": "markdown",
   "metadata": {},
   "source": [
    "## Visualize the total count of objects per Cell"
   ]
  },
  {
   "cell_type": "code",
   "execution_count": 20,
   "metadata": {},
   "outputs": [
    {
     "data": {
      "image/png": "[encoded data removed]",
      "text/plain": [
       "<Figure size 720x576 with 1 Axes>"
      ]
     },
     "metadata": {
      "needs_background": "light"
     },
     "output_type": "display_data"
    },
    {
     "name": "stdout",
     "output_type": "stream",
     "text": [
      "Current Time = 13:10:18\n",
      "-------------------------------------------\n",
      "Time: 2020-07-15 13:10:20\n",
      "-------------------------------------------\n",
      "\n",
      "-------------------------------------------\n",
      "Time: 2020-07-15 13:10:20\n",
      "-------------------------------------------\n",
      "(2, 'HndNit', 53.84926, -1.83893, ['hello', 'friends', \"today's\", '#washcloth', 'is', 'mock', 'cable', 'so', 'no', 'cable', 'needle', 'required', '. \\n.', 'knit', '2', 'rows', 'to', 'form', 'the', 'bottom', 'and', '…', 'https://t.co/fdhvxrx2ap'])\n",
      "(2, 'shelikestosing', 51.65169, -0.19747, ['happy', '70thbirthday', 'to', 'my', 'father', 'yesterday', 'on', '#bastilleday', 'fought', '#corunavirus', 'and', 'got', 'positive', 'news', 'on', 'his', 'birthday', '…', 'https://t.co/phfcph6gjh'])\n",
      "(2, 'leslieworks', 51.55557127, -0.17825459, ['this', 'spring', 'i', 'fell', 'in', 'love', 'with', 'very', 'quirky', '1980s', 'italian', 'pottery', 'who', \"doesn't\", 'love', 'a', 'lady', 'mask', 'this', 'is', 'a', 'beautif', '…', 'https://t.co/mmd2biznje'])\n",
      "(2, 'KathyNewmanALB', 51.88149809, -3.44370961, ['💜', '🙏', '🏼', \"don't\", 'let', 'life', 'just', 'pass', 'you', 'by', 'make', 'your', 'life', 'matter', '💜', '#time', '#empoweredwomen', '#lifebalance', '#meditation', '…', 'https://t.co/kneaftuhgn'])\n",
      "(2, 'TheAvenueHair', 53.37986349, -1.48047538, ['cut', 'and', 'colour', 'by', 'mollie', 'book', 'online', 'at', 'https://t.co/iuimaf60t2', 'or', 'call', '01142', '720582', '#labiosthetique', '#olaplex', '…', 'https://t.co/keq7orpzpk'])\n",
      "(2, 'Sean_Donald', 57.18302312, -2.20677687, ['the', '#fact', 'i', 'can', 'still', '#smile', 'after', 'a', '#workout', 'like', 'the', '1', '#gede', '#lawrence', 'just', 'gave', 'me', '#speaks', '#louder', 'than', '…', 'https://t.co/lallqzelre'])\n",
      "(2, 'IainLowdeanPGA', 55.90712507, -3.28880739, ['really', 'nice', 'day', 'yesterday', 'long', 'one', '8am', 'till', '10:30', 'pm', 'fittings', 'gapping', 'session', 'and', 'lessons', 'great', 'to', 'see', 'the', 'sand', '…', 'https://t.co/gbjjlwbtg5'])\n",
      "(2, 'adactio', 50.83241653, -0.11809737, ['the', 'second', 'episode', 'of', 'the', '@clearleft', 'podcast', 'is', 'out', 'https://t.co/55b0f5pblx', 'it', '’', 's', 'all', 'about', 'service', 'design', 'and', 'fe', '…', 'https://t.co/1j0oroz85y'])\n",
      "(2, 'bhbsgeog', 52.0575, -2.6829, ['fantastic', 'new', 'advert', 'from', '@burgerkinguk', 'search', 'burgerking', 'cow', 'menu', 'on', 'mitigation', 'of', 'climate', 'change', '…', 'https://t.co/raz1crvlhu'])\n",
      "(2, 'ThisIsGascoigne', 52.69099, -2.03174, ['before', 'lockdown', 'during', 'lockdown', 'which', 'looks', 'better', 'people', 'i', \"can't\", 'decide', 'before', 'lockdown', 'was', 'obviously', 'where', '…', 'https://t.co/lxawdumyqf'])\n",
      "\n",
      "-------------------------------------------\n",
      "Time: 2020-07-15 13:10:20\n",
      "-------------------------------------------\n",
      "('IainLowdeanPGA', 1)\n",
      "('adactio', 1)\n",
      "('bhbsgeog', 1)\n",
      "('leslieworks', 1)\n",
      "('KathyNewmanALB', 1)\n",
      "('Sean_Donald', 1)\n",
      "('HndNit', 1)\n",
      "('shelikestosing', 1)\n",
      "('TheAvenueHair', 1)\n",
      "('ThisIsGascoigne', 1)\n",
      "\n",
      "-------------------------------------------\n",
      "Time: 2020-07-15 13:10:30\n",
      "-------------------------------------------\n",
      "(2, 'tmj_she_health', 53.9776532, -1.5646148, ['want', 'to', 'work', 'at', 'covance', \"we're\", 'hiring', 'in', 'england', 'click', 'for', 'details', 'https://t.co/wltlelk5yp', '#healthcare'])\n",
      "\n",
      "-------------------------------------------\n",
      "Time: 2020-07-15 13:10:30\n",
      "-------------------------------------------\n",
      "(2, 'leslieworks', 51.55557127, -0.17825459, ['this', 'spring', 'i', 'fell', 'in', 'love', 'with', 'very', 'quirky', '1980s', 'italian', 'pottery', 'who', \"doesn't\", 'love', 'a', 'lady', 'mask', 'this', 'is', 'a', 'beautif', '…', 'https://t.co/mmd2biznje'])\n",
      "(2, 'KathyNewmanALB', 51.88149809, -3.44370961, ['💜', '🙏', '🏼', \"don't\", 'let', 'life', 'just', 'pass', 'you', 'by', 'make', 'your', 'life', 'matter', '💜', '#time', '#empoweredwomen', '#lifebalance', '#meditation', '…', 'https://t.co/kneaftuhgn'])\n",
      "(2, 'TheAvenueHair', 53.37986349, -1.48047538, ['cut', 'and', 'colour', 'by', 'mollie', 'book', 'online', 'at', 'https://t.co/iuimaf60t2', 'or', 'call', '01142', '720582', '#labiosthetique', '#olaplex', '…', 'https://t.co/keq7orpzpk'])\n",
      "(2, 'Sean_Donald', 57.18302312, -2.20677687, ['the', '#fact', 'i', 'can', 'still', '#smile', 'after', 'a', '#workout', 'like', 'the', '1', '#gede', '#lawrence', 'just', 'gave', 'me', '#speaks', '#louder', 'than', '…', 'https://t.co/lallqzelre'])\n",
      "(2, 'IainLowdeanPGA', 55.90712507, -3.28880739, ['really', 'nice', 'day', 'yesterday', 'long', 'one', '8am', 'till', '10:30', 'pm', 'fittings', 'gapping', 'session', 'and', 'lessons', 'great', 'to', 'see', 'the', 'sand', '…', 'https://t.co/gbjjlwbtg5'])\n",
      "(2, 'adactio', 50.83241653, -0.11809737, ['the', 'second', 'episode', 'of', 'the', '@clearleft', 'podcast', 'is', 'out', 'https://t.co/55b0f5pblx', 'it', '’', 's', 'all', 'about', 'service', 'design', 'and', 'fe', '…', 'https://t.co/1j0oroz85y'])\n",
      "(2, 'bhbsgeog', 52.0575, -2.6829, ['fantastic', 'new', 'advert', 'from', '@burgerkinguk', 'search', 'burgerking', 'cow', 'menu', 'on', 'mitigation', 'of', 'climate', 'change', '…', 'https://t.co/raz1crvlhu'])\n",
      "(2, 'ThisIsGascoigne', 52.69099, -2.03174, ['before', 'lockdown', 'during', 'lockdown', 'which', 'looks', 'better', 'people', 'i', \"can't\", 'decide', 'before', 'lockdown', 'was', 'obviously', 'where', '…', 'https://t.co/lxawdumyqf'])\n",
      "(2, 'tmj_she_health', 53.9776532, -1.5646148, ['want', 'to', 'work', 'at', 'covance', \"we're\", 'hiring', 'in', 'england', 'click', 'for', 'details', 'https://t.co/wltlelk5yp', '#healthcare'])\n",
      "\n",
      "-------------------------------------------\n",
      "Time: 2020-07-15 13:10:30\n",
      "-------------------------------------------\n",
      "('IainLowdeanPGA', 1)\n",
      "('adactio', 1)\n",
      "('bhbsgeog', 1)\n",
      "('tmj_she_health', 1)\n",
      "('leslieworks', 1)\n",
      "('KathyNewmanALB', 1)\n",
      "('Sean_Donald', 1)\n",
      "('HndNit', 1)\n",
      "('shelikestosing', 1)\n",
      "('TheAvenueHair', 1)\n",
      "...\n",
      "\n",
      "-------------------------------------------\n",
      "Time: 2020-07-15 13:10:40\n",
      "-------------------------------------------\n",
      "\n",
      "-------------------------------------------\n",
      "Time: 2020-07-15 13:10:40\n",
      "-------------------------------------------\n",
      "(2, 'leslieworks', 51.55557127, -0.17825459, ['this', 'spring', 'i', 'fell', 'in', 'love', 'with', 'very', 'quirky', '1980s', 'italian', 'pottery', 'who', \"doesn't\", 'love', 'a', 'lady', 'mask', 'this', 'is', 'a', 'beautif', '…', 'https://t.co/mmd2biznje'])\n",
      "(2, 'KathyNewmanALB', 51.88149809, -3.44370961, ['💜', '🙏', '🏼', \"don't\", 'let', 'life', 'just', 'pass', 'you', 'by', 'make', 'your', 'life', 'matter', '💜', '#time', '#empoweredwomen', '#lifebalance', '#meditation', '…', 'https://t.co/kneaftuhgn'])\n",
      "(2, 'TheAvenueHair', 53.37986349, -1.48047538, ['cut', 'and', 'colour', 'by', 'mollie', 'book', 'online', 'at', 'https://t.co/iuimaf60t2', 'or', 'call', '01142', '720582', '#labiosthetique', '#olaplex', '…', 'https://t.co/keq7orpzpk'])\n",
      "(2, 'Sean_Donald', 57.18302312, -2.20677687, ['the', '#fact', 'i', 'can', 'still', '#smile', 'after', 'a', '#workout', 'like', 'the', '1', '#gede', '#lawrence', 'just', 'gave', 'me', '#speaks', '#louder', 'than', '…', 'https://t.co/lallqzelre'])\n",
      "(2, 'IainLowdeanPGA', 55.90712507, -3.28880739, ['really', 'nice', 'day', 'yesterday', 'long', 'one', '8am', 'till', '10:30', 'pm', 'fittings', 'gapping', 'session', 'and', 'lessons', 'great', 'to', 'see', 'the', 'sand', '…', 'https://t.co/gbjjlwbtg5'])\n",
      "(2, 'adactio', 50.83241653, -0.11809737, ['the', 'second', 'episode', 'of', 'the', '@clearleft', 'podcast', 'is', 'out', 'https://t.co/55b0f5pblx', 'it', '’', 's', 'all', 'about', 'service', 'design', 'and', 'fe', '…', 'https://t.co/1j0oroz85y'])\n",
      "(2, 'bhbsgeog', 52.0575, -2.6829, ['fantastic', 'new', 'advert', 'from', '@burgerkinguk', 'search', 'burgerking', 'cow', 'menu', 'on', 'mitigation', 'of', 'climate', 'change', '…', 'https://t.co/raz1crvlhu'])\n",
      "(2, 'ThisIsGascoigne', 52.69099, -2.03174, ['before', 'lockdown', 'during', 'lockdown', 'which', 'looks', 'better', 'people', 'i', \"can't\", 'decide', 'before', 'lockdown', 'was', 'obviously', 'where', '…', 'https://t.co/lxawdumyqf'])\n",
      "(2, 'tmj_she_health', 53.9776532, -1.5646148, ['want', 'to', 'work', 'at', 'covance', \"we're\", 'hiring', 'in', 'england', 'click', 'for', 'details', 'https://t.co/wltlelk5yp', '#healthcare'])\n",
      "\n"
     ]
    },
    {
     "name": "stdout",
     "output_type": "stream",
     "text": [
      "-------------------------------------------\n",
      "Time: 2020-07-15 13:10:40\n",
      "-------------------------------------------\n",
      "('IainLowdeanPGA', 1)\n",
      "('adactio', 1)\n",
      "('bhbsgeog', 1)\n",
      "('tmj_she_health', 1)\n",
      "('leslieworks', 1)\n",
      "('KathyNewmanALB', 1)\n",
      "('Sean_Donald', 1)\n",
      "('HndNit', 1)\n",
      "('shelikestosing', 1)\n",
      "('TheAvenueHair', 1)\n",
      "...\n",
      "\n",
      "-------------------------------------------\n",
      "Time: 2020-07-15 13:10:50\n",
      "-------------------------------------------\n",
      "(2, 'HThornbery', 51.46414, -0.21247, [\"i'm\", 'missing', 'the', 'quiet', 'roads', 'tbh', 'but', \"it's\", 'great', 'to', 'have', 'the', 'old', 'cafe', 'haunts', 'back', 'open', 'and', 'i', 'plan', 'to', 'help', 'them', 'back', 't', '…', 'https://t.co/mcbiggmgng'])\n",
      "\n",
      "-------------------------------------------\n",
      "Time: 2020-07-15 13:10:50\n",
      "-------------------------------------------\n",
      "(2, 'leslieworks', 51.55557127, -0.17825459, ['this', 'spring', 'i', 'fell', 'in', 'love', 'with', 'very', 'quirky', '1980s', 'italian', 'pottery', 'who', \"doesn't\", 'love', 'a', 'lady', 'mask', 'this', 'is', 'a', 'beautif', '…', 'https://t.co/mmd2biznje'])\n",
      "(2, 'KathyNewmanALB', 51.88149809, -3.44370961, ['💜', '🙏', '🏼', \"don't\", 'let', 'life', 'just', 'pass', 'you', 'by', 'make', 'your', 'life', 'matter', '💜', '#time', '#empoweredwomen', '#lifebalance', '#meditation', '…', 'https://t.co/kneaftuhgn'])\n",
      "(2, 'TheAvenueHair', 53.37986349, -1.48047538, ['cut', 'and', 'colour', 'by', 'mollie', 'book', 'online', 'at', 'https://t.co/iuimaf60t2', 'or', 'call', '01142', '720582', '#labiosthetique', '#olaplex', '…', 'https://t.co/keq7orpzpk'])\n",
      "(2, 'Sean_Donald', 57.18302312, -2.20677687, ['the', '#fact', 'i', 'can', 'still', '#smile', 'after', 'a', '#workout', 'like', 'the', '1', '#gede', '#lawrence', 'just', 'gave', 'me', '#speaks', '#louder', 'than', '…', 'https://t.co/lallqzelre'])\n",
      "(2, 'IainLowdeanPGA', 55.90712507, -3.28880739, ['really', 'nice', 'day', 'yesterday', 'long', 'one', '8am', 'till', '10:30', 'pm', 'fittings', 'gapping', 'session', 'and', 'lessons', 'great', 'to', 'see', 'the', 'sand', '…', 'https://t.co/gbjjlwbtg5'])\n",
      "(2, 'adactio', 50.83241653, -0.11809737, ['the', 'second', 'episode', 'of', 'the', '@clearleft', 'podcast', 'is', 'out', 'https://t.co/55b0f5pblx', 'it', '’', 's', 'all', 'about', 'service', 'design', 'and', 'fe', '…', 'https://t.co/1j0oroz85y'])\n",
      "(2, 'bhbsgeog', 52.0575, -2.6829, ['fantastic', 'new', 'advert', 'from', '@burgerkinguk', 'search', 'burgerking', 'cow', 'menu', 'on', 'mitigation', 'of', 'climate', 'change', '…', 'https://t.co/raz1crvlhu'])\n",
      "(2, 'ThisIsGascoigne', 52.69099, -2.03174, ['before', 'lockdown', 'during', 'lockdown', 'which', 'looks', 'better', 'people', 'i', \"can't\", 'decide', 'before', 'lockdown', 'was', 'obviously', 'where', '…', 'https://t.co/lxawdumyqf'])\n",
      "(2, 'tmj_she_health', 53.9776532, -1.5646148, ['want', 'to', 'work', 'at', 'covance', \"we're\", 'hiring', 'in', 'england', 'click', 'for', 'details', 'https://t.co/wltlelk5yp', '#healthcare'])\n",
      "(2, 'HThornbery', 51.46414, -0.21247, [\"i'm\", 'missing', 'the', 'quiet', 'roads', 'tbh', 'but', \"it's\", 'great', 'to', 'have', 'the', 'old', 'cafe', 'haunts', 'back', 'open', 'and', 'i', 'plan', 'to', 'help', 'them', 'back', 't', '…', 'https://t.co/mcbiggmgng'])\n",
      "\n",
      "-------------------------------------------\n",
      "Time: 2020-07-15 13:10:50\n",
      "-------------------------------------------\n",
      "('IainLowdeanPGA', 1)\n",
      "('adactio', 1)\n",
      "('bhbsgeog', 1)\n",
      "('tmj_she_health', 1)\n",
      "('leslieworks', 1)\n",
      "('KathyNewmanALB', 1)\n",
      "('Sean_Donald', 1)\n",
      "('HThornbery', 1)\n",
      "('HndNit', 1)\n",
      "('shelikestosing', 1)\n",
      "...\n",
      "\n",
      "-------------------------------------------\n",
      "Time: 2020-07-15 13:11:00\n",
      "-------------------------------------------\n",
      "\n",
      "-------------------------------------------\n",
      "Time: 2020-07-15 13:11:00\n",
      "-------------------------------------------\n",
      "(2, 'leslieworks', 51.55557127, -0.17825459, ['this', 'spring', 'i', 'fell', 'in', 'love', 'with', 'very', 'quirky', '1980s', 'italian', 'pottery', 'who', \"doesn't\", 'love', 'a', 'lady', 'mask', 'this', 'is', 'a', 'beautif', '…', 'https://t.co/mmd2biznje'])\n",
      "(2, 'KathyNewmanALB', 51.88149809, -3.44370961, ['💜', '🙏', '🏼', \"don't\", 'let', 'life', 'just', 'pass', 'you', 'by', 'make', 'your', 'life', 'matter', '💜', '#time', '#empoweredwomen', '#lifebalance', '#meditation', '…', 'https://t.co/kneaftuhgn'])\n",
      "(2, 'TheAvenueHair', 53.37986349, -1.48047538, ['cut', 'and', 'colour', 'by', 'mollie', 'book', 'online', 'at', 'https://t.co/iuimaf60t2', 'or', 'call', '01142', '720582', '#labiosthetique', '#olaplex', '…', 'https://t.co/keq7orpzpk'])\n",
      "(2, 'Sean_Donald', 57.18302312, -2.20677687, ['the', '#fact', 'i', 'can', 'still', '#smile', 'after', 'a', '#workout', 'like', 'the', '1', '#gede', '#lawrence', 'just', 'gave', 'me', '#speaks', '#louder', 'than', '…', 'https://t.co/lallqzelre'])\n",
      "(2, 'IainLowdeanPGA', 55.90712507, -3.28880739, ['really', 'nice', 'day', 'yesterday', 'long', 'one', '8am', 'till', '10:30', 'pm', 'fittings', 'gapping', 'session', 'and', 'lessons', 'great', 'to', 'see', 'the', 'sand', '…', 'https://t.co/gbjjlwbtg5'])\n",
      "(2, 'adactio', 50.83241653, -0.11809737, ['the', 'second', 'episode', 'of', 'the', '@clearleft', 'podcast', 'is', 'out', 'https://t.co/55b0f5pblx', 'it', '’', 's', 'all', 'about', 'service', 'design', 'and', 'fe', '…', 'https://t.co/1j0oroz85y'])\n",
      "(2, 'bhbsgeog', 52.0575, -2.6829, ['fantastic', 'new', 'advert', 'from', '@burgerkinguk', 'search', 'burgerking', 'cow', 'menu', 'on', 'mitigation', 'of', 'climate', 'change', '…', 'https://t.co/raz1crvlhu'])\n",
      "(2, 'ThisIsGascoigne', 52.69099, -2.03174, ['before', 'lockdown', 'during', 'lockdown', 'which', 'looks', 'better', 'people', 'i', \"can't\", 'decide', 'before', 'lockdown', 'was', 'obviously', 'where', '…', 'https://t.co/lxawdumyqf'])\n",
      "(2, 'tmj_she_health', 53.9776532, -1.5646148, ['want', 'to', 'work', 'at', 'covance', \"we're\", 'hiring', 'in', 'england', 'click', 'for', 'details', 'https://t.co/wltlelk5yp', '#healthcare'])\n",
      "(2, 'HThornbery', 51.46414, -0.21247, [\"i'm\", 'missing', 'the', 'quiet', 'roads', 'tbh', 'but', \"it's\", 'great', 'to', 'have', 'the', 'old', 'cafe', 'haunts', 'back', 'open', 'and', 'i', 'plan', 'to', 'help', 'them', 'back', 't', '…', 'https://t.co/mcbiggmgng'])\n",
      "\n",
      "-------------------------------------------\n",
      "Time: 2020-07-15 13:11:00\n",
      "-------------------------------------------\n",
      "('IainLowdeanPGA', 1)\n",
      "('adactio', 1)\n",
      "('bhbsgeog', 1)\n",
      "('tmj_she_health', 1)\n",
      "('leslieworks', 1)\n",
      "('KathyNewmanALB', 1)\n",
      "('Sean_Donald', 1)\n",
      "('HThornbery', 1)\n",
      "('HndNit', 1)\n",
      "('shelikestosing', 1)\n",
      "...\n",
      "\n",
      "-------------------------------------------\n",
      "Time: 2020-07-15 13:11:10\n",
      "-------------------------------------------\n",
      "\n"
     ]
    }
   ],
   "source": [
    "# import libraries to visualize the results\n",
    "import time\n",
    "from IPython import display\n",
    "import matplotlib.pyplot as plt\n",
    "import seaborn as sns\n",
    "import pandas\n",
    "from datetime import datetime\n",
    "%matplotlib inline\n",
    "count = 0\n",
    "while count < 12:\n",
    "    time.sleep(11)\n",
    "    cell_counts = sqlContext.sql( 'Select cell, count from tweets_per_cell' )\n",
    "    cell_counts_df = cell_counts.toPandas()\n",
    "    display.clear_output(wait=True)\n",
    "    plt.figure( figsize = ( 10, 8 ) )\n",
    "    sns.barplot( x=\"cell\", y=\"count\", data=cell_counts_df)\n",
    "    plt.show()\n",
    "    count = count + 1\n",
    "    now = datetime.now()\n",
    "    current_time = now.strftime(\"%H:%M:%S\")\n",
    "    print(\"Current Time =\", current_time)  \n",
    "    \n"
   ]
  },
  {
   "cell_type": "markdown",
   "metadata": {},
   "source": [
    "## Stop Streaming"
   ]
  },
  {
   "cell_type": "code",
   "execution_count": 21,
   "metadata": {},
   "outputs": [
    {
     "name": "stdout",
     "output_type": "stream",
     "text": [
      "-------------------------------------------\n",
      "Time: 2020-07-15 13:11:10\n",
      "-------------------------------------------\n",
      "(2, 'KathyNewmanALB', 51.88149809, -3.44370961, ['💜', '🙏', '🏼', \"don't\", 'let', 'life', 'just', 'pass', 'you', 'by', 'make', 'your', 'life', 'matter', '💜', '#time', '#empoweredwomen', '#lifebalance', '#meditation', '…', 'https://t.co/kneaftuhgn'])\n",
      "(2, 'TheAvenueHair', 53.37986349, -1.48047538, ['cut', 'and', 'colour', 'by', 'mollie', 'book', 'online', 'at', 'https://t.co/iuimaf60t2', 'or', 'call', '01142', '720582', '#labiosthetique', '#olaplex', '…', 'https://t.co/keq7orpzpk'])\n",
      "(2, 'Sean_Donald', 57.18302312, -2.20677687, ['the', '#fact', 'i', 'can', 'still', '#smile', 'after', 'a', '#workout', 'like', 'the', '1', '#gede', '#lawrence', 'just', 'gave', 'me', '#speaks', '#louder', 'than', '…', 'https://t.co/lallqzelre'])\n",
      "(2, 'IainLowdeanPGA', 55.90712507, -3.28880739, ['really', 'nice', 'day', 'yesterday', 'long', 'one', '8am', 'till', '10:30', 'pm', 'fittings', 'gapping', 'session', 'and', 'lessons', 'great', 'to', 'see', 'the', 'sand', '…', 'https://t.co/gbjjlwbtg5'])\n",
      "(2, 'adactio', 50.83241653, -0.11809737, ['the', 'second', 'episode', 'of', 'the', '@clearleft', 'podcast', 'is', 'out', 'https://t.co/55b0f5pblx', 'it', '’', 's', 'all', 'about', 'service', 'design', 'and', 'fe', '…', 'https://t.co/1j0oroz85y'])\n",
      "(2, 'bhbsgeog', 52.0575, -2.6829, ['fantastic', 'new', 'advert', 'from', '@burgerkinguk', 'search', 'burgerking', 'cow', 'menu', 'on', 'mitigation', 'of', 'climate', 'change', '…', 'https://t.co/raz1crvlhu'])\n",
      "(2, 'ThisIsGascoigne', 52.69099, -2.03174, ['before', 'lockdown', 'during', 'lockdown', 'which', 'looks', 'better', 'people', 'i', \"can't\", 'decide', 'before', 'lockdown', 'was', 'obviously', 'where', '…', 'https://t.co/lxawdumyqf'])\n",
      "(2, 'tmj_she_health', 53.9776532, -1.5646148, ['want', 'to', 'work', 'at', 'covance', \"we're\", 'hiring', 'in', 'england', 'click', 'for', 'details', 'https://t.co/wltlelk5yp', '#healthcare'])\n",
      "(2, 'HThornbery', 51.46414, -0.21247, [\"i'm\", 'missing', 'the', 'quiet', 'roads', 'tbh', 'but', \"it's\", 'great', 'to', 'have', 'the', 'old', 'cafe', 'haunts', 'back', 'open', 'and', 'i', 'plan', 'to', 'help', 'them', 'back', 't', '…', 'https://t.co/mcbiggmgng'])\n",
      "\n",
      "-------------------------------------------\n",
      "Time: 2020-07-15 13:11:10\n",
      "-------------------------------------------\n",
      "('IainLowdeanPGA', 1)\n",
      "('adactio', 1)\n",
      "('bhbsgeog', 1)\n",
      "('tmj_she_health', 1)\n",
      "('leslieworks', 1)\n",
      "('KathyNewmanALB', 1)\n",
      "('Sean_Donald', 1)\n",
      "('HThornbery', 1)\n",
      "('HndNit', 1)\n",
      "('shelikestosing', 1)\n",
      "...\n",
      "\n"
     ]
    }
   ],
   "source": [
    "ssc.stop()\n"
   ]
  },
  {
   "cell_type": "code",
   "execution_count": null,
   "metadata": {},
   "outputs": [],
   "source": []
  }
 ],
 "metadata": {
  "kernelspec": {
   "display_name": "Python 3",
   "language": "python",
   "name": "python3"
  },
  "language_info": {
   "codemirror_mode": {
    "name": "ipython",
    "version": 3
   },
   "file_extension": ".py",
   "mimetype": "text/x-python",
   "name": "python",
   "nbconvert_exporter": "python",
   "pygments_lexer": "ipython3",
   "version": "3.7.4"
  }
 },
 "nbformat": 4,
 "nbformat_minor": 2
}
